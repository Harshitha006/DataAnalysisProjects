{
 "cells": [
  {
   "cell_type": "markdown",
   "id": "3031b2d2-7c49-4c70-a176-aae07fdc5219",
   "metadata": {},
   "source": [
    "It's simply a format in which we can transfer files from server to client and client to server.\n",
    "We use HTML for building a static websites.\n",
    "But in case of dynamic websites of today's world such as facebook, Let's suppose we're sending a request from the client side and the server receives the request and gives back an response.\n",
    "Now if we need the response not in HTML format but only the data, \n",
    "    => the response can either be a text/plain text. But it's not difficult in case of complex data.\n",
    "    => we can use JS to send the complex data as an object.\n",
    "This is achieved by:\n",
    "1. Converting java object into JSON in server side\n",
    "2. Converting JSON into java object in the client side.\n",
    "Before JSON people used to woek on XML."
   ]
  },
  {
   "cell_type": "code",
   "execution_count": 64,
   "id": "4c93e97b-5b78-4665-8a68-ccabde7669fd",
   "metadata": {},
   "outputs": [
    {
     "name": "stdout",
     "output_type": "stream",
     "text": [
      "-----------------------Menu-----------------------\n",
      "\n",
      "1001 : 5 Star | 10 | 180\n",
      "1002 : Bar-One | 20 | 100\n",
      "1003 : Candy | 2 | 1000\n",
      "1004 : Chocolate Cake | 550 | 25\n",
      "1005 : Blueberry Cake | 650 | 10\n",
      "--------------------------------------------------\n",
      "\n"
     ]
    },
    {
     "name": "stdin",
     "output_type": "stream",
     "text": [
      "Enter your name  :  harsh\n",
      "Enter Mail ID    :  hasrh@gmail.coom\n",
      "Enter Phone no.  :  1233254324232\n",
      "Enter Product ID :  1001\n",
      "Enter Quantity :  30\n"
     ]
    },
    {
     "name": "stdout",
     "output_type": "stream",
     "text": [
      "-----------------------Bill-----------------------\n",
      "\n",
      "Name           : 5 Star\n",
      "Price (Rs)     : 10 Rs\n",
      "Quantity       : 30\n",
      "--------------------------------------------------\n",
      "Billing Amount : 300 Rs\n",
      "--------------------------------------------------\n",
      "\n",
      "----------------------------------------------------------\n",
      " Thnaks for your order , Inventory updated successfully ! \n",
      "----------------------------------------------------------\n"
     ]
    }
   ],
   "source": [
    "# Importing libraries\n",
    "import json\n",
    "import time\n",
    "\n",
    "# Initializing variables\n",
    "sale = ''\n",
    "\n",
    "# loading the inventory records from JSON to string\n",
    "fd=open(r\"C:\\Users\\HARSHITHA\\GFG\\Records.json\",\"r\")\n",
    "js=fd.read()\n",
    "fd.close()\n",
    "\n",
    "record = json.loads(js)  #Converts str back to dictionary format ,\n",
    "# Eventhough it converts str to dict format , the key value remains str. So the ui_pr should be got in str format from the user\n",
    "\"\"\"\n",
    "record={1001 : {\"Name\" : \"5 Star\"         , \"Price\" : 10  , \"Qty\" : 200 } ,\n",
    "        1002 : {\"Name\" : \"Bar-One\"        , \"Price\" : 20  , \"Qty\" : 100 } ,\n",
    "        1003 : {\"Name\" : \"Candy\"          , \"Price\" : 2   , \"Qty\" : 1000 } ,\n",
    "        1004 : {\"Name\" : \"Chocolate Cake\" , \"Price\" : 550 , \"Qty\" : 8 },\n",
    "        1005 : {\"Name\" : \"Blueberry Cake\" , \"Price\" : 650 , \"Qty\" : 5 } }    \"\"\"   \n",
    "\n",
    "# displaying menu\n",
    "print('-----------------------Menu-----------------------\\n')\n",
    "\n",
    "for key in record.keys():\n",
    "    print(key , \":\" , record[key]['Name'] , \"|\" , record[key]['Price'] , \"|\" , record[key]['Qty'])\n",
    "    \n",
    "print('--------------------------------------------------\\n')\n",
    "\n",
    "# Taking user inputs about the purchase and user details.\n",
    "ui_name = str(input(\"Enter your name  : \")) \n",
    "ui_mail = str(input(\"Enter Mail ID    : \")) \n",
    "ui_ph   = str(input(\"Enter Phone no.  : \")) \n",
    "ui_pr   = str(input(\"Enter Product ID : \")) \n",
    "\n",
    "# checking if the product Id exists in the record\n",
    "if ui_pr not in record:\n",
    "    print(\"Invalid Product ID! Please try again.\")\n",
    "else:\n",
    "    ui_qty = int(input(\"Enter Quantity : \"))\n",
    "    \n",
    "    # If we're having enough quantity as user wants.\n",
    "    if ui_qty <= record[ui_pr][\"Qty\"]:\n",
    "\n",
    "        # updating records dictionary\n",
    "        record[ui_pr][\"Qty\"] -= ui_qty\n",
    "        # Displaying bill details\n",
    "        print('-----------------------Bill-----------------------\\n')\n",
    "        print(f\"Name           : {record[ui_pr]['Name']}\")\n",
    "        print(f\"Price (Rs)     : {record[ui_pr]['Price']} Rs\")\n",
    "        print(f\"Quantity       : {ui_qty}\")\n",
    "        print('--------------------------------------------------')\n",
    "        print(f\"Billing Amount : {record[ui_pr]['Price'] * ui_qty} Rs\")\n",
    "        print('--------------------------------------------------')\n",
    "\n",
    "        # Generating sales structure\n",
    "        sale= ui_name + \",\" + ui_mail + \",\" + ui_ph + \",\" + ui_pr + \",\" + record[ui_pr]['Name'] + \",\" + str(ui_qty) + \",\" + str(record[ui_pr]['Price']) + \",\" + str(record[ui_pr]['Price'] * ui_qty) +\" Rs \" + \",\" + time.ctime() + \"\\n\"\n",
    "    \n",
    "    # If we're not having enough quantity as user wants.\n",
    "    else:\n",
    "        # Displaying info about the quantity\n",
    "        print(f\"Sorry, only {record[ui_pr]['Qty']} items available.\")\n",
    "        print(\"Do you want to purchase?\")f\n",
    "        # If we want to purchase whole remaining quantity for that product.\n",
    "        ch = input(\"Press Y/y for yes: \")\n",
    "\n",
    "        if(ch=='Y' or ch=='y'):\n",
    "            # Displaying bill details\n",
    "            print('-----------------------Bill-----------------------\\n')\n",
    "            print(f\"Name           : {record[ui_pr]['Name']}\")\n",
    "            print(f\"Price (Rs)     : {record[ui_pr]['Price']} Rs\")\n",
    "            print(f\"Quantity       : {record[ui_pr][\"Qty\"]}\")\n",
    "            print('--------------------------------------------------')\n",
    "            print(f\"Billing Amount : {record[ui_pr]['Price'] * record[ui_pr][\"Qty\"]} Rs\")\n",
    "            print('--------------------------------------------------')\n",
    "\n",
    "            # Generating sales structure\n",
    "            sale= ui_name + \",\" + ui_mail + \",\" + ui_ph + \",\" + ui_pr + \",\" + record[ui_pr]['Name'] + \",\" + str(record[ui_pr]['Qty']) + \",\" + str(record[ui_pr]['Price']) + \",\" + str(record[ui_pr]['Price'] * record[ui_pr][\"Qty\"]) +\" Rs \" + \",\" + time.ctime() + \"\\n\"\n",
    "            \n",
    "            # updating records dictionary\n",
    "            record[ui_pr][\"Qty\"] = 0\n",
    "        # If user pressed anything other than Y/y\n",
    "        else:\n",
    "            print(\"Thanks\")\n",
    "\n",
    "    #converting dictionary into str format.\n",
    "    js=json.dumps(record) \n",
    "\n",
    "    # Saving records in JSON file\n",
    "    fd=open(r\"C:\\Users\\HARSHITHA\\GFG\\Records.json\",\"w\")\n",
    "    fd.write(js)\n",
    "    fd.close()\n",
    "\n",
    "    # Saving records in JSON file\n",
    "    fd=open(r\"C:\\Users\\HARSHITHA\\GFG\\Sales.txt\",\"a\")\n",
    "    fd.write(sale)\n",
    "    fd.close()\n",
    "\n",
    "print('')\n",
    "print('----------------------------------------------------------')\n",
    "print(\" Thnaks for your order , Inventory updated successfully ! \")\n",
    "print('----------------------------------------------------------')"
   ]
  },
  {
   "cell_type": "code",
   "execution_count": 60,
   "id": "8219f2bd-ba59-4ba3-b257-3705e1e3a219",
   "metadata": {},
   "outputs": [
    {
     "data": {
      "text/plain": [
       "'harsh,harsh@gmail.com,12345234,1001,5 Star,20,10,200 Rs ,Sun Nov 17 13:31:12 2024\\n'"
      ]
     },
     "execution_count": 60,
     "metadata": {},
     "output_type": "execute_result"
    }
   ],
   "source": [
    "sale"
   ]
  },
  {
   "cell_type": "code",
   "execution_count": 62,
   "id": "7155e4bc-f649-4d8c-ac83-8c124e0413ee",
   "metadata": {},
   "outputs": [],
   "source": []
  },
  {
   "cell_type": "code",
   "execution_count": null,
   "id": "cdcfb2d7-ca42-474b-b37f-b0d57da46188",
   "metadata": {},
   "outputs": [],
   "source": []
  }
 ],
 "metadata": {
  "kernelspec": {
   "display_name": "Python 3 (ipykernel)",
   "language": "python",
   "name": "python3"
  },
  "language_info": {
   "codemirror_mode": {
    "name": "ipython",
    "version": 3
   },
   "file_extension": ".py",
   "mimetype": "text/x-python",
   "name": "python",
   "nbconvert_exporter": "python",
   "pygments_lexer": "ipython3",
   "version": "3.12.7"
  }
 },
 "nbformat": 4,
 "nbformat_minor": 5
}
